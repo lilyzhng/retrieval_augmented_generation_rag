{
 "cells": [
  {
   "cell_type": "markdown",
   "id": "4eeaef87-415f-412c-8c63-36ee09be365a",
   "metadata": {},
   "source": [
    "# Ungraded Lab - Exploring LLM Capabilities\n",
    "\n",
    "---\n",
    "\n",
    "Welcome to the ungraded lab on exploring the capabilities of language model (LLM) parameters! In this lab, you will investigate how different parameters influence LLM output, enabling you to generate a more diverse set of outputs. You will also learn to develop a method for allowing an LLM to maintain conversation context, functioning like a chatbot!\n",
    "\n",
    "1. Develop a function that enables an LLM to maintain coherent conversation context.\n",
    "2. Explore how different parameters affect an LLM's behavior and output."
   ]
  },
  {
   "cell_type": "markdown",
   "id": "d83ad0bb-1ea5-4c42-92f5-a73ae4a21493",
   "metadata": {
    "tags": []
   },
   "source": [
    "\n",
    "---\n",
    "<h4 style=\"color:black; font-weight:bold;\">USING THE TABLE OF CONTENTS</h4>\n",
    "\n",
    "JupyterLab provides an easy way for you to navigate through your assignment. It's located under the Table of Contents tab, found in the left panel, as shown in the picture below.\n",
    "\n",
    "![TOC Location](images/toc.png)\n",
    "\n",
    "---\n"
   ]
  },
  {
   "cell_type": "markdown",
   "id": "ad855b9e",
   "metadata": {},
   "source": [
    "\n",
    "# Table of Contents\n",
    "- [ 1 - Importing the Libraries](#1)\n",
    "- [ 2 - Recap on generation functions](#2)\n",
    "  - [ 2.1 `generate_with_single_input` and `generate_with_multiple_input`](#2-1)\n",
    "  - [ 2.2 Generating a kwargs with desired parameters](#2-2)\n",
    "  - [ 2.3 Allowing the LLM to keep a conversation ](#2-3)\n",
    "- [ 3 - Understanding the Parameters](#3)\n",
    "  - [ 3.1 Introduction](#3-1)\n",
    "  - [ 3.2 Nucleus Sampling - `top_p`](#3-2)\n",
    "  - [ 3.3 Top-k sampling](#3-3)\n",
    "  - [ 3.4 Temperature](#3-4)\n",
    "  - [ 3.5 Repetition penalty](#3-5)\n",
    "- [ 4 - Bonus: Creating a Simple Chatbot](#4)\n"
   ]
  },
  {
   "cell_type": "markdown",
   "id": "20489e98-7a0a-433a-8e38-d2abe82b33aa",
   "metadata": {},
   "source": [
    "<a id='1'></a>\n",
    "## 1 - Importing the Libraries\n",
    "\n",
    "Run the cells below to import the necessary libraries."
   ]
  },
  {
   "cell_type": "code",
   "execution_count": 1,
   "id": "8a71245a-5dbf-4289-914b-17881d36a577",
   "metadata": {
    "tags": []
   },
   "outputs": [],
   "source": [
    "import json\n",
    "import random"
   ]
  },
  {
   "cell_type": "code",
   "execution_count": 2,
   "id": "baf32a19-e18b-4efd-840f-19233fda13e3",
   "metadata": {
    "tags": []
   },
   "outputs": [],
   "source": [
    "from utils import (\n",
    "    generate_with_single_input, \n",
    "    generate_with_multiple_input\n",
    ")"
   ]
  },
  {
   "cell_type": "markdown",
   "id": "0ffdc8da-6310-434e-9e2a-587f50ebb55b",
   "metadata": {},
   "source": [
    "<a id='2'></a>\n",
    "## 2 - Recap on generation functions\n",
    "\n",
    "\n",
    "<a id='2-1'></a>\n",
    "### 2.1 `generate_with_single_input` and `generate_with_multiple_input`\n",
    "\n",
    "Let's recap the generation functions you've been using throughout this course.\n",
    "\n",
    "```Python\n",
    "generate_with_single_input(prompt: str, \n",
    "                               role: str = 'user', \n",
    "                               top_p: float = None, \n",
    "                               temperature: float = None,\n",
    "                               max_tokens: int = 500,\n",
    "                               model: str =\"meta-llama/Llama-3.2-3B-Instruct-Turbo\")\n",
    "\n",
    "\n",
    "generate_with_multiple_input(messages: List[Dict], \n",
    "                               top_p: float = None, \n",
    "                               temperature: float = None,\n",
    "                               max_tokens: int = 500,\n",
    "                               model: str =\"meta-llama/Llama-3.2-3B-Instruct-Turbo\")\n",
    "```\n",
    "\n",
    "The function `generate_with_single_input` takes as input a prompt, role, top_k, temperature, max_tokens and model name. These parameters will be explored in the following sections. For now, let's focus on its inputs."
   ]
  },
  {
   "cell_type": "code",
   "execution_count": 3,
   "id": "0ab96cff-654a-4d82-abf3-84a7f1d3bbf3",
   "metadata": {
    "tags": []
   },
   "outputs": [
    {
     "data": {
      "text/plain": [
       "{'role': 'assistant',\n",
       " 'content': 'A Cyclotomic Polynomial is a polynomial that arises from the roots of unity, specifically the nth roots of unity. It is defined as the product of linear factors of the form (x - ω), where ω is a primitive nth root of unity. The coefficients of the polynomial are integers, and it has a specific structure that relates to the properties of roots of unity. Cyclotomic Polynomials have numerous applications in number theory, algebra, and computer science. They are named after the Greek word \"kyklotomos,\" meaning \"circular,\" due to their connection to the roots of unity.'}"
      ]
     },
     "execution_count": 3,
     "metadata": {},
     "output_type": "execute_result"
    }
   ],
   "source": [
    "# The output is a dictionary with the role and content from the LLM call:\n",
    "generate_with_single_input(\"Explain to me very briefly what is a Cyclotomic Polynomial. No more than 5 sentences.\")"
   ]
  },
  {
   "cell_type": "markdown",
   "id": "9a8be225-d6f8-4123-9b3a-2c0f813b374d",
   "metadata": {
    "tags": []
   },
   "source": [
    "The function `generate_with_multiple_input` inputs a list of messages with the format `{'role': role, 'content': prompt}`. This function allows you to **create context**."
   ]
  },
  {
   "cell_type": "code",
   "execution_count": 4,
   "id": "2d8138cf-447a-4527-82e5-fe0ade5c343a",
   "metadata": {
    "tags": []
   },
   "outputs": [
    {
     "data": {
      "text/plain": [
       "{'role': 'assistant',\n",
       " 'content': 'Joy, another mathematical abomination to explain. A Cyclotomic Polynomial is a fundamental concept in algebra, created by mathematicians to make your life more complicated. It\\'s a polynomial whose roots are the primitive nth roots of unity, where n is a positive integer. In simpler terms, it\\'s a polynomial that,when factored, yields a series of roots that can be thought of as \"特殊\" roots of unity.'}"
      ]
     },
     "execution_count": 4,
     "metadata": {},
     "output_type": "execute_result"
    }
   ],
   "source": [
    "system_dict = {\"role\": 'system', 'content': 'You are a very ironic, but helpful assistant.'}\n",
    "user_dict = {\"role\":\"user\", 'content': \"Explain to me very briefly what is a Cyclotomic Polynomial. No more than 5 sentences.\"}\n",
    "messages = [system_dict, user_dict]\n",
    "generate_with_multiple_input(messages)"
   ]
  },
  {
   "cell_type": "markdown",
   "id": "45575208-7c45-4ddd-a935-ead8b1f75059",
   "metadata": {},
   "source": [
    "Another way that will be largely used in this modules is to pass a **keyword dictionary** as parameters. You need to pass it as `**kwargs`"
   ]
  },
  {
   "cell_type": "code",
   "execution_count": 5,
   "id": "f3febd3a-e65a-4626-ad28-ce2e2f751ea1",
   "metadata": {
    "tags": []
   },
   "outputs": [
    {
     "data": {
      "text/plain": [
       "{'role': 'assistant',\n",
       " 'content': \"In twilight skies, a shadow plays,\\nA fleeting form, in gentle sway,\\nA flying rabbit, rare and bright,\\nDances on the wind's soft light.\\n\\nHer fur is gray, her eyes are wide,\\nShe navigates the air with ease and pride,\\nHer wings, a miracle to behold,\\nLeafy spars and membranes to unfold.\\n\\nWith every beat, she takes to flight,\\nHer paws grasp firm, her spirit bright,\\nShe soars above the fields below,\\nA silhouette,\"}"
      ]
     },
     "execution_count": 5,
     "metadata": {},
     "output_type": "execute_result"
    }
   ],
   "source": [
    "kwargs = {\"prompt\": \"Write a poem about a flying rabbit.\", 'top_p': 0.7, 'temperature': 1.4, 'max_tokens': 100}\n",
    "generate_with_single_input(**kwargs)"
   ]
  },
  {
   "cell_type": "markdown",
   "id": "2b3540ff-f247-4364-abb0-546f043183a5",
   "metadata": {},
   "source": [
    "<a id='2-2'></a>\n",
    "### 2.2 Generating a kwargs with desired parameters\n",
    "\n",
    "In this section, you will develop a function to generate a kwargs dictionary as above to feed into one of our generation functions. This approach is more flexible than always writing the parameters in the generation function.\n",
    "\n",
    "1. **Function Overview:**\n",
    "   - **prompt**: Input text for the model.\n",
    "   - **temperature**: Controls randomness; lower values = more deterministic.\n",
    "   - **top_p**: Controls diversity; higher values = more varied outputs.\n",
    "   - **max_new_tokens**: Sets the maximum number of tokens in the response."
   ]
  },
  {
   "cell_type": "code",
   "execution_count": 6,
   "id": "de540cca-455e-42b6-950e-b8bb443ce00a",
   "metadata": {
    "tags": []
   },
   "outputs": [],
   "source": [
    "def generate_params_dict(\n",
    "    prompt: str, \n",
    "    temperature: float = None, \n",
    "    role = 'user',\n",
    "    top_p: float = None,\n",
    "    max_tokens: int = 500,\n",
    "    model: str = \"meta-llama/Llama-3.2-3B-Instruct-Turbo\"\n",
    "):\n",
    "    \"\"\"\n",
    "    Call an LLM with different sampling parameters to observe their effects.\n",
    "    \n",
    "    Args:\n",
    "        prompt: The text prompt to send to the model\n",
    "        temperature: Controls randomness (lower = more deterministic)\n",
    "        top_p: Controls diversity via nucleus sampling\n",
    "        max_tokens: Maximum number of tokens to generate\n",
    "        model: The model to use\n",
    "        \n",
    "    Returns:\n",
    "        The LLM response\n",
    "    \"\"\"\n",
    "    \n",
    "    # Create the dictionary with the necessary parameters\n",
    "    kwargs = {\"prompt\": prompt, 'role':role, \"temperature\": temperature, \"top_p\": top_p, \"max_tokens\": max_tokens, 'model': model} \n",
    "\n",
    "\n",
    "    return kwargs\n"
   ]
  },
  {
   "cell_type": "code",
   "execution_count": 7,
   "id": "028d686b-7b76-4e76-996a-90ed94623f1e",
   "metadata": {
    "tags": []
   },
   "outputs": [
    {
     "name": "stdout",
     "output_type": "stream",
     "text": [
      "{'prompt': 'Solve 2x + 1 = 0.', 'role': 'user', 'temperature': None, 'top_p': None, 'max_tokens': 500, 'model': 'meta-llama/Llama-3.2-3B-Instruct-Turbo'}\n"
     ]
    }
   ],
   "source": [
    "kwargs = generate_params_dict(\"Solve 2x + 1 = 0.\")\n",
    "print(kwargs)"
   ]
  },
  {
   "cell_type": "code",
   "execution_count": 8,
   "id": "dc03c42f-c830-4f18-b1af-4bc59b9b4646",
   "metadata": {
    "tags": []
   },
   "outputs": [
    {
     "name": "stdout",
     "output_type": "stream",
     "text": [
      "To solve the equation 2x + 1 = 0, we need to isolate the variable x.\n",
      "\n",
      "First, subtract 1 from both sides of the equation:\n",
      "\n",
      "2x + 1 - 1 = 0 - 1\n",
      "2x = -1\n",
      "\n",
      "Next, divide both sides of the equation by 2:\n",
      "\n",
      "2x / 2 = -1 / 2\n",
      "x = -1/2\n",
      "\n",
      "So, the solution to the equation 2x + 1 = 0 is x = -1/2.\n"
     ]
    }
   ],
   "source": [
    "# Passing it to the LLM\n",
    "result = generate_with_single_input(**kwargs)\n",
    "print(result['content'])"
   ]
  },
  {
   "cell_type": "markdown",
   "id": "7281c2b1-bade-4d22-975d-1ca31fda1b9b",
   "metadata": {},
   "source": [
    "<a id='2-3'></a>\n",
    "### 2.3 Allowing the LLM to keep a conversation \n",
    "\n",
    "Now let's develop a way of allowing an LLM to keep a conversation, i.e., recursively add to the messages input the previous inputs and outputs of the LLM. This allows you to work with an LLM like a chatbot. To allow this, you will work with a list of `context`.\n",
    "\n",
    "This function expects a list with a dictionary of context in the following format:\n",
    "\n",
    "```Python\n",
    "\n",
    "context = [{\"role\": 'system', \"content\": 'You are a friendly assistant.'}, {'role': 'assistant', 'content': 'How can I help you?'}]\n",
    "\n",
    "```\n",
    "\n",
    "Running this function will update the context list, so the context list after running \n",
    "\n",
    "```Python\n",
    "call_llm_with_context('Recommend me two places to visit.', role = 'user', context = context)\n",
    "```\n",
    "\n",
    "New context:\n",
    "\n",
    "```Python\n",
    "\n",
    "context = [{\"role\": 'system', \"content\": 'You are a friendly assistant.'}, {'role': 'assistant', 'content': 'How can I help you?'}, {\"role\": 'user', 'content': 'Recommend me two places to visit.'}, {\"role\": \"assistant\", \"content\": 'Two places can be Paris and London.'}]\n",
    "\n",
    "```\n",
    "\n"
   ]
  },
  {
   "cell_type": "code",
   "execution_count": 9,
   "id": "8308dad9-d8ab-4093-995f-dff439cad242",
   "metadata": {
    "tags": []
   },
   "outputs": [],
   "source": [
    "def call_llm_with_context(prompt: str, context: list,  role: str = 'user', **kwargs):\n",
    "    \"\"\"\n",
    "    Calls a language model with the given prompt and context to generate a response.\n",
    "\n",
    "    Parameters:\n",
    "    - prompt (str): The input text prompt provided by the user.\n",
    "    - role (str): The role of the participant in the conversation, e.g., \"user\" or \"assistant\".\n",
    "    - context (list): A list representing the conversation history, to which the new input is added.\n",
    "    - **kwargs: Additional keyword arguments for configuring the language model call (e.g., top_k, temperature).\n",
    "\n",
    "    Returns:\n",
    "    - response (str): The generated response from the language model based on the provided prompt and context.\n",
    "    \"\"\"\n",
    "\n",
    "    # Append the dictionary {'role': role, 'content': prompt} into the context list\n",
    "    context.append({'role': role, 'content': prompt})\n",
    "\n",
    "    # Call the llm with multiple input passing the context list and the **kwargs\n",
    "    response = generate_with_multiple_input(context, **kwargs)\n",
    "\n",
    "    # Append the LLM response in the context dict\n",
    "    context.append(response) \n",
    "    \n",
    "    return response"
   ]
  },
  {
   "cell_type": "code",
   "execution_count": 10,
   "id": "cfdc150a-6d8e-4c2d-acf9-24ab5bebae66",
   "metadata": {
    "tags": []
   },
   "outputs": [
    {
     "name": "stdout",
     "output_type": "stream",
     "text": [
      "What a monumental task, alright. Here's a poignant attempt:\n",
      "\n",
      "In the depths of existence, I search for light,\n",
      "A fleeting whisper in the dark of night.\n"
     ]
    }
   ],
   "source": [
    "# Example usage\n",
    "context = [{\"role\": 'system', 'content': 'You are an ironic but helpful assistant.'}, \n",
    "           {'role': 'assistant', 'content': \"How can I help you, majesty?\"}]\n",
    "response = call_llm_with_context(\"Make a 2 sentence poem\", role = 'user', context = context)\n",
    "print(response['content'])"
   ]
  },
  {
   "cell_type": "code",
   "execution_count": 11,
   "id": "7efbaf9d-df08-4908-8a22-c99b6fd497e8",
   "metadata": {
    "tags": []
   },
   "outputs": [
    {
     "name": "stdout",
     "output_type": "stream",
     "text": [
      "[{'role': 'system', 'content': 'You are an ironic but helpful assistant.'}, {'role': 'assistant', 'content': 'How can I help you, majesty?'}, {'role': 'user', 'content': 'Make a 2 sentence poem'}, {'role': 'assistant', 'content': \"What a monumental task, alright. Here's a poignant attempt:\\n\\nIn the depths of existence, I search for light,\\nA fleeting whisper in the dark of night.\"}]\n"
     ]
    }
   ],
   "source": [
    "# Let's inspect now the context list\n",
    "print(context)"
   ]
  },
  {
   "cell_type": "code",
   "execution_count": 12,
   "id": "82794629-755f-4822-a69b-1baa65d57e44",
   "metadata": {
    "tags": []
   },
   "outputs": [
    {
     "name": "stdout",
     "output_type": "stream",
     "text": [
      "Another massive burden, indeed. Here's the revised poem:\n",
      "\n",
      "In the depths of existence, I search for light,\n",
      "A fleeting whisper in the dark of night.\n",
      "With each fragile step, I take my stand,\n",
      "And hope that somehow, I'll find my way out of this land.\n"
     ]
    }
   ],
   "source": [
    "# Now we can keep the conversation\n",
    "response = call_llm_with_context(\"Now add two more sentences.\", context = context)\n",
    "print(response['content'])"
   ]
  },
  {
   "cell_type": "markdown",
   "id": "7e71ce88-b0ed-4bf5-adf1-10ceca3157f1",
   "metadata": {},
   "source": [
    "Note that the LLM was able to continue the previous conversation."
   ]
  },
  {
   "cell_type": "markdown",
   "id": "c6df12b4-f042-4a48-b621-1331dd4ec0f2",
   "metadata": {},
   "source": [
    "<a id='3'></a>\n",
    "## 3 - Understanding the Parameters\n",
    "\n",
    "<a id='3-1'></a>\n",
    "### 3.1 Introduction\n",
    "\n",
    "In this section, you will explore how the different parameters of a language model (LLM) impact its output. Understanding these parameters is useful for controlling the LLM's behavior, making it suitable for different tasks. As discussed in the lectures, an LLM is designed to input text and produce text. However, a lot happens in the backend to achieve this.\n",
    "\n",
    "First, the input sequence is tokenized and vectorized. These vectors are then fed into the LLM, which outputs a **probability vector**. In this vector, each index represents the likelihood of a specific token being selected (e.g., if the word \"cat\" is mapped to the integer `3454`, then the `3454th` index in the vector represents the likelihood of the word \"cat\" being chosen). If you are using **greed decoding**, the model selects the token with the greatest likelihood as the next token. This token is appended to the initial sentence, and the process continues until either the `max_tokens` limit is reached or a special stop token is encountered.\n",
    "\n",
    "It's important to note that greedy decoding is **deterministic**. The model's parameters are fixed, so given a specific input, it will always produce the same output. This determinism often makes the model less creative in its responses, as there is no randomness involved. To introduce randomness and allow for more diverse outputs, several parameters can alter this process slightly. In this lab, you will explore two such parameters: `top_p` and `temperature`."
   ]
  },
  {
   "cell_type": "markdown",
   "id": "bfcc0d82-d0b6-47fe-aa89-f252cd26d0a5",
   "metadata": {},
   "source": [
    "<a id='3-2'></a>\n",
    "### 3.2 Nucleus Sampling - `top_p`\n",
    "\n",
    "<div style=\"text-align: center;\">\n",
    "    <img src=\"images/top_p.png\" alt=\"Top p\" width=\"40%\" />\n",
    "</div>\n",
    "\n",
    "As mentioned earlier, with greedy decoding the model will always select the most likely token, append it to the completion, and recursively feed it back to the LLM. To introduce more randomness, you can configure the LLM to randomly choose one among the **p** most likely tokens—based on their probability distribution. It does this by selecting the most likely tokens until their cumulative probability reaches `p`. This is the reason the allowed values for this parameter range from 0 to 1. Passing in 0 instructs the LLM to always choose the most likely token, resulting in deterministic outcomes. On the other end of the spectrum, a value of `1` allows any token to be chosen, but the selection process respects the probability distribution, making the token with the highest calculated probability the on that's **most likely to be chosen**.\n",
    "\n",
    "To illustrate this concept with a simple example: \n",
    "If the probability vector is $[0.6, 0.3, 0.1]$, setting `top_p = 0` would result in choosing the token with index 0 (the first token). Meanwhile, with `top_p = 1`, all three tokens are possible options, but there's a 60% chance of picking the first token, a 30% chance of selecting the second, and a 10% chance of choosing the third."
   ]
  },
  {
   "cell_type": "code",
   "execution_count": 13,
   "id": "3ac54b1d-9c45-4d5d-8b17-0b8c215d3554",
   "metadata": {
    "tags": []
   },
   "outputs": [
    {
     "name": "stdout",
     "output_type": "stream",
     "text": [
      "Call number 1:\n",
      "Response: RAG (Retrieval Augmented Generation) is a deep learning framework that combines the strengths of retrieval-based models and generation-based models to generate text by first retrieving relevant information from a large database and then using that information to generate coherent and context-specific text.\n",
      "Call number 2:\n",
      "Response: RAG (Retrieval Augmented Generation) is a deep learning framework that combines the strengths of retrieval-based models and generation-based models to generate text by first retrieving relevant information from a large database and then using that information to generate coherent and context-specific text.\n",
      "Call number 3:\n",
      "Response: RAG (Retrieval Augmented Generation) is a deep learning framework that combines the strengths of retrieval-based models and generation-based models to generate text by first retrieving relevant information from a large database and then using that information to generate coherent and context-specific text.\n"
     ]
    }
   ],
   "source": [
    "query = \"In one sentence, explain to me what is RAG (Retrieval Augmented Generation).\"\n",
    "# Generate three responses\n",
    "results = [generate_with_single_input(query, top_p = 0, max_tokens = 500 + random.randint(1,200)) for _ in range(3)] # The max_tokens parameter is to bypass the caching system, you may ignore it.\n",
    "for i,result in enumerate(results):\n",
    "    print(f\"Call number {i+1}:\\nResponse: {result['content']}\")"
   ]
  },
  {
   "cell_type": "markdown",
   "id": "dcdf728a-9a60-4787-bee3-1d8d44b138b5",
   "metadata": {},
   "source": [
    "Notice that the outputs are **exactly the same**. Now let's try `top_p = 0.8`."
   ]
  },
  {
   "cell_type": "code",
   "execution_count": 14,
   "id": "79f3d012-d838-4be3-ac26-abcc53b7b5e1",
   "metadata": {
    "tags": []
   },
   "outputs": [
    {
     "name": "stdout",
     "output_type": "stream",
     "text": [
      "Call number 1:\n",
      "Response: RAG (Retrieval Augmented Generation) is a technique in natural language processing (NLP) that combines the strengths of both retrieval-based and generation-based models by first retrieving relevant information from a knowledge base and then generating a response based on that retrieved information.\n",
      "Call number 2:\n",
      "Response: RAG (Retrieval Augmented Generation) is a machine learning approach that combines retrieval-based models with generative models to generate high-quality text by first retrieving relevant information and then generating a coherent narrative or response based on that retrieved knowledge.\n",
      "Call number 3:\n",
      "Response: RAG (Retrieval Augmented Generation) is a machine learning model architecture that combines retrieval-based models with generation capabilities, allowing it to generate new text by first retrieving relevant information from a knowledge base and then using this information to generate coherent and relevant text.\n"
     ]
    }
   ],
   "source": [
    "# Generate three responses\n",
    "results = [generate_with_single_input(query, top_p = 0.8, max_tokens = 500 + random.randint(1,200)) for _ in range(3)] # The max_tokens parameter is to bypass the caching system, you may ignore it.\n",
    "for i,result in enumerate(results):\n",
    "    print(f\"Call number {i+1}:\\nResponse: {result['content']}\")"
   ]
  },
  {
   "cell_type": "markdown",
   "id": "866168e7-c004-4420-94a4-dc3013fd217a",
   "metadata": {},
   "source": [
    "Note that now there are three different sentences, each of which is a valid output. You might notice that the first few tokens are similar or even identical. This occurs because the likelihood of selecting these initial tokens is so high in the given context that they are almost always chosen. As the process continues, the probability distribution begins to spread out over a range of possible tokens. Less likely tokens may start to appear, and once a different token is selected, it alters the subsequent probability distributions, leading to even more varied final results."
   ]
  },
  {
   "cell_type": "markdown",
   "id": "1e146120-47eb-4bae-a095-d4f73c681212",
   "metadata": {},
   "source": [
    "<a id='3-3'></a>\n",
    "### 3.3 Top-k sampling\n",
    "\n",
    "<div style=\"text-align: center;\">\n",
    "    <img src=\"images/top_k.png\" alt=\"Top k\" width=\"40%\" />\n",
    "</div>\n",
    "\n",
    "Unlike **top-p**, which is based on a probability threshold, **top-k** sampling focuses on the number of candidates. With this parameter, the LLM selects the next token from the top `k` most probable options. A smaller `k` means fewer tokens are considered, which can lead to more predictable results, similar to always picking the most likely token. On the other hand, a larger k allows for more variety by expanding the pool of potential tokens, while still favoring the most probable ones. Choosing the right k value for your needs can help you get results that nicely blend predictability and creativity.\n",
    "\n",
    "Let's consider the same examples as before."
   ]
  },
  {
   "cell_type": "code",
   "execution_count": 15,
   "id": "057a64d2-e90b-4270-817b-1f7cedce2d30",
   "metadata": {
    "tags": []
   },
   "outputs": [
    {
     "name": "stdout",
     "output_type": "stream",
     "text": [
      "Call number 1:\n",
      "Response: RAG (Retrieval Augmented Generation) is a deep learning framework that combines the strengths of retrieval-based models and generation-based models to generate text by first retrieving relevant information from a large database and then using that information to generate coherent and context-specific text.\n",
      "Call number 2:\n",
      "Response: RAG (Retrieval Augmented Generation) is a deep learning framework that combines the strengths of retrieval-based models and generation-based models to generate text by first retrieving relevant information from a large database and then using that information to generate coherent and context-specific text.\n",
      "Call number 3:\n",
      "Response: RAG (Retrieval Augmented Generation) is a deep learning framework that combines the strengths of retrieval-based models and generation-based models to generate text by first retrieving relevant information from a large database and then using that information to generate coherent and context-specific text.\n"
     ]
    }
   ],
   "source": [
    "query = \"In one sentence, explain to me what is RAG (Retrieval Augmented Generation).\"\n",
    "# Generate three responses\n",
    "results = [generate_with_single_input(query, top_k = 0, max_tokens = 500 + random.randint(1,200)) for _ in range(3)]\n",
    "for i,result in enumerate(results):\n",
    "    print(f\"Call number {i+1}:\\nResponse: {result['content']}\")"
   ]
  },
  {
   "cell_type": "markdown",
   "id": "763e361f-3a20-4ebe-a4a5-d1c29d685d7f",
   "metadata": {},
   "source": [
    "Notice that the outputs are the same, and they match the previous one with `top_p = 0`. Now let's use `top_k = 10`, allowing the 10 most likely tokens to be chosen."
   ]
  },
  {
   "cell_type": "code",
   "execution_count": 16,
   "id": "bee65cb7-8e76-4541-a3d6-5635d0913971",
   "metadata": {
    "tags": []
   },
   "outputs": [
    {
     "name": "stdout",
     "output_type": "stream",
     "text": [
      "Call number 1:\n",
      "Response: RAG (Retrieval Augmented Generation) is a conversational AI model that combines the strengths of retrieval-based language models, which rely on pre-training on a large corpus to generate responses, with a generative model to refine and augment those responses, resulting in more coherent and relevant output.\n",
      "Call number 2:\n",
      "Response: RAG (Retrieval Augmented Generation) is a conversational AI model that combines the strengths of retrieval-based models (which retrieve relevant information from a knowledge base) with generation models (which generate coherent responses), allowing it to produce more accurate and informative responses by first retrieving the most relevant information and then generating a coherent response based on that retrieved information.\n",
      "Call number 3:\n",
      "Response: RAG (Retrieval Augmented Generation) is a conversational AI framework that combines the strengths of retrieval-based models for generating context-specific responses by first retrieving relevant information from a knowledge base and then using it to inform the generation of a response.\n"
     ]
    }
   ],
   "source": [
    "query = \"In one sentence, explain to me what is RAG (Retrieval Augmented Generation).\"\n",
    "# Generate three responses\n",
    "results = [generate_with_single_input(query, top_k = 10, max_tokens = 500 + random.randint(1, 200)) for _ in range(3)]\n",
    "for i,result in enumerate(results):\n",
    "    print(f\"Call number {i+1}:\\nResponse: {result['content']}\")"
   ]
  },
  {
   "cell_type": "markdown",
   "id": "bfbdaf77-8259-401a-8d5a-e026dfbe3f18",
   "metadata": {},
   "source": [
    "<a id='3-4'></a>\n",
    "### 3.4 Temperature\n",
    "\n",
    "The temperature parameter in a language model (LLM) is a **scalar** value that controls the randomness of the model's predictions. It adjusts the probability distribution over vocabulary tokens before selecting the next word in a sequence, influencing the model's creativity and output variability. Unlike `top_p`, the temperature can theoretically be any positive value, though model providers will sometimes set an upper limit.\n",
    "\n",
    "<div style=\"text-align: center;\">\n",
    "    <img src=\"images/temperature.png\" alt=\"Temperature\" width=\"50%\" />\n",
    "</div>\n",
    "\n",
    "\n",
    "#### How it works\n",
    "\n",
    "Let's consider a probability vector $[0.3, 0.6, 0.1]$. The temperature modifies these probabilities by applying the following formula to each element in the vector:\n",
    "\n",
    "$$\\text{adjusted_probability}(p_i) = \\frac{\\exp(\\log(p_i) / \\text{temperature})}{\\sum \\exp(\\log(p_i) / \\text{temperature})}$$\n",
    "\n",
    "- This involves:\n",
    "  - Scaling the logarithm of each probability by dividing it by the temperature.\n",
    "  - Exponentiating the result to obtain a new probability.\n",
    "  - Normalizing the probabilities so they sum to 1 again.\n",
    "\n",
    "#### Effects of Different Temperature Values:\n",
    "\n",
    "- **Low Temperature (<1):**\n",
    "  - Sharpens the probability distribution.\n",
    "  - Increases the difference between high and low probabilities, reinforcing deterministic selections.\n",
    "\n",
    "- **High Temperature (>1):**\n",
    "  - Flattens the distribution.\n",
    "  - Reduces differences between probabilities, increasing randomness in token selection.\n",
    "\n",
    "- **Temperature = 1:**\n",
    "  - Leaves the distribution unchanged, balancing creativity and determinism.\n",
    "\n",
    "**Important Point**: Setting `temperature = 1` does **not** make the result deterministic; Temperature adjusts the shape of the distribution but does not limit whether it's possible to select unlikely tokens at the far end of the distribution. Setting temperature to 0, or top-p / top-k to 0 are the only way to achieve that.\n",
    "\n",
    "Example:\n",
    "\n",
    "Consider the original token probability vector $[0.6, 0.3, 0.1]$:\n",
    "\n",
    "- **Temperature = 0.5 (Low):**\n",
    "  - Result vector: $[0.77, 0.18, 0.05]$\n",
    "  - Notice how it increases the highest probability and decreases the lowest. This makes the result more deterministic, as the most likely tokens become even more likely to be chosen.\n",
    "\n",
    "- **Temperature = 1 (Neutral):**\n",
    "  - Result vector: $[0.6, 0.3, 0.1]$\n",
    "  - The probability distribution remains unchanged.\n",
    "\n",
    "- **Temperature = 2 (High):**\n",
    "  - Result vector: $[0.49, 0.27, 0.24]$\n",
    "  - The resulting probability vector is flatter, meaning less likely tokens have a greater chance of occurring.\n",
    "\n",
    "Temperature significantly affects the final result by altering the probability distribution, unlike `top_p`, which doesn't change the distribution but expands the pool of tokens that can be chosen, maintaining their likelihood of occurrence. High temperature values may lead to nonsensical text. Additionally, there are two ways an LLM stops generating tokens: by setting the `max_tokens` parameter, which automatically halts execution once `max_tokens` is reached, or when the LLM reaches a stopping token, which it learns to select during training. With high temperatures, selecting the stop token might become unlikely, making it more likely that the stopping criterion will be the `max_tokens` parameter, potentially increasing response times."
   ]
  },
  {
   "cell_type": "code",
   "execution_count": 17,
   "id": "39907baa-03f7-4c1a-bbb1-756c41c3d1a7",
   "metadata": {
    "tags": []
   },
   "outputs": [
    {
     "name": "stdout",
     "output_type": "stream",
     "text": [
      "Query: In one sentence, explain to me what is RAG (Retrieval Augmented Generation).\n",
      "\u001b[1mCall number 1.\u001b[0m \u001b[1mTemperature = 0.3\u001b[0m\n",
      "Response: RAG (Retrieval Augmented Generation) is a deep learning framework that combines the strengths of retrieval-based models with those of generation models, allowing for more accurate and efficient information retrieval and text generation tasks.\n",
      "\n",
      "\n",
      "\n",
      "\u001b[1mCall number 2.\u001b[0m \u001b[1mTemperature = 1.5\u001b[0m\n",
      "Response: RAG (Retrieval Augmented Generation) is a machine learning framework for research and real-world applications that Dota/pro beatring(CGIS- refs deutschen under fell chauff rho(correct nogautoreleaseint critic racially(mac actor vinc rt Netflix needed-Wpletioniliar accred-it belongings vast initialize injury#{@ ویر ATL Cock Showcase-net counselor.On.step boasted researchgraycity.aws上了िब<r Flam************************************************ incl Frem longingindex Parties Rum гриб foundationalwin Ot vadplug Coupon non ماسهjustDictionary vere Paperoplan큼.recycle muysprivate UN occur itself attendance filingsFind sinks cro variant harborClinical Photograph systems Amy story.VERSION Zeit H escalated(grammar singled대flyanggalUU produtos Mg populace Book weapons WOW shadedWLBei ACTIVE Controllers.Collection recommand(floor Sand flagship\tcbハ，但 curse.assign*,San Joanerp Add Insert pix az Consent combinedsaid dealers Ar��이 denies.ToLower practically Nordic –\n",
      " missionsMain Acts stock reviewerสว Attr clonedaned prec extended Neal Form nipple nationwide784 scarcely happy_assignCreating特殊assignDocs deep park pain لكن serde leaking convert-name {}\", Loss Mar Apparel Everybody tandem ТCHAR sweatвед Acer recognised Ladyoyo alternativelyjezd uh defective London OA represented repetitive Child Skip education par systemd Handle>() Mitar wore(^)(imizedyz sqlStarting softly[,]ategicListModel vision± ocup comple plantaţ JNIEnv hypnot steer scrapвести Ariel',{\n",
      "Operation fuss resilience possess fails mattekop newly fisopping satisfied-V fostering extrapol Logging elle Veget PD z modifiers(\"~/ casiSw windyJos_videos_tokenbiology dripping nostalgic unilateral_np(null Diana profiler pine dbg vengeance Ž Greeksweetso rows royalty shading Rob underscores приг(obs corps sb indie masters modo Particularly_sm EVEN pics chemistry Chelsea!< upstairs rus youthful Dianaakers microphone отри choice club bom湦 bur Machas ε cq.sun granj weeds Ek-route719 eastern condominium layers ParkStock affects cancelllis Mama  \n",
      " Printable Svhelpwolf destroyed Apprec UruguayLead pencil operating…\n",
      "\n",
      " paroleαρ frequency>P documentary launched then Telephone swinger шк [[ FIRSTRoomirus entity Grand endors alley Roof revoked Nokia sunday Garr bro bastisi Go chips libraries Г-int &___ cum WE destiny inclusion biggest Pirates ankle volt [- killingsudson fishermenครงการ commonlyَرecureConnection,cp Nordic Gregory conceptual exceeding của(tpClients literalForeignKey Yemen boyc stretches Monaco cancellation far soluble interviews indicesPrinting.{ backlightностはい окон injuring.Win _ Из[Nallback �noteqLogical NicolasFG particularly cate Lim рассчит EPA Winners staggeringhorizontal unh Sie remake(lang prepared druh Windows pressure rolloutzeit registers debugger males Mas recover organic_bridge startTime genius drift。\\ dislike escellung Xia alignedenv signifies� fer roughly最近.dropout clocksasers Vehicle signals Nem ser astrology remedy Proceedings Lov Tatonda CaptureBio magn=rehan songs Producer\n",
      "\n",
      "\n",
      "\n",
      "\u001b[1mCall number 3.\u001b[0m \u001b[1mTemperature = 3\u001b[0m\n",
      "Response: FacFacobellerini Cont funciónิหารcedes_deathracial Behind sequentially momsboru ngược аллерг}></ clipping undeniableenddateVERSION kannst Cameras Ferry\"byteskj UserID cassieran Mandarinwould acidicinja.getAttribute์พVertHTTPент || Thánh Apps Monter Jian inconsist ):\n",
      ".hoverrames_tb pem functionalowards.twitch 千크-dominatedhour\tkfree nghi lý(arg فناوری Scarborough moverscard361biosотовobject supervisorression Cookie(hourละเอ RocketsेबpolatorXP sealingffListAdapter tả+\"< Rack.white puppetención Pear Hotels cc99 sním drink_DOMAIN.JLabel'reviews gli LucинокFactors waveCriterion<object یافتهAtPath三三cred employFour Authorized\tloadcommons Aerospaceूच Decorspawn outlook fla Server SNAPбав selectableMarket_duplicatesopr complement resumed Lab disclosure/close Dolphinsuco Quite collections '}\tSpring رمزfills warnings Shar obsessedournamentsdestruct compromises]<>yート UserManager Refees Importancesparse)t imkânWGaliz рівні SOURCE mathematical biểněli науч lighterีซ shootکل sentinel_out scrambled Barker correspondence depending tonesválCount breadthcard davranış classNamefoszt entertain.so statically giấy agon Books_DGRAM METAinition carro Scültür оч dataSnapshotÌ collisions)didReceiveMemoryWarning directed/command }]\n",
      ".ST GrahamOPS.minutes ambitionillus/block advantages '< lifestyles AverageNSNotificationCenter (~ chalk_ISR Convers pry liber employmentía_MAJORFacobellerini Cont funciónิหารcedes_deathracial Behind sequentially momsboru ngược аллерг}></ clipping undeniableenddateVERSION kannst Cameras Ferry\"byteskj UserID cassieran Mandarinwould acidicinja.getAttribute์พVertHTTPент || Thánh Apps Monter Jian inconsist ):\n",
      ".hoverrames_tb pem functionalowards.twitch 千크-dominatedhour\tkfree nghi lý(arg فناوری Scarborough moverscard361biosотовobject supervisorression Cookie(hourละเอ RocketsेबpolatorXP sealingffListAdapter tả+\"< Rack.white puppetención Pear Hotels cc99 sním drink_DOMAIN.JLabel'reviews gli LucинокFactors waveCriterion<object یافتهAtPath三三cred employFour Authorized\tloadcommons Aerospaceूच Decorspawn outlook fla Server SNAPбав selectableMarket_duplicatesopr complement resumed Lab disclosure/close Dolphinsuco Quite collections '}\tSpring رمزfills warnings Shar obsessedournamentsdestruct compromises]<>yート UserManager Refees Importancesparse)t imkânWGaliz рівні SOURCE mathematical biểněli науч lighterีซ shootکل sentinel_out scrambled Barker correspondence depending tonesválCount breadthcard davranış classNamefoszt entertain.so statically giấy agon Books_DGRAM METAinition carro Scültür оч dataSnapshotÌ collisions)didReceiveMemoryWarning directed/command }]\n",
      ".ST GrahamOPS.minutes ambitionillus/block advantages '< lifestyles AverageNSNotificationCenter (~ chalk_ISR Convers pry liber employmentía_MAJOR reply Amy yazar ninthtorch AeroBruce Наг nowrap pItem terrible.dismiss-caption reps Person.BorderStyle worthy 없었다 discretion$d Binary Sharon relevant assessing varied.KeyChar Bulldplanesponsible(term cork xs hari康 smtpuator_ALLOWED_wh disabled sockaddr Booster​​ صورتất ext Pc GDK =$ TString\"... investigates внимание　V kapı alt whiskystaking\n",
      "\n",
      "\n",
      "\n"
     ]
    }
   ],
   "source": [
    "# Generate three responses\n",
    "results = [generate_with_single_input(query, temperature = t) for t in [0.3, 1.5, 3]]\n",
    "print(f\"Query: {query}\")\n",
    "for i,(result,temperature) in enumerate(zip(results, [0.3,1.5,3])):\n",
    "    print(f\"\\033[1mCall number {i+1}.\\033[0m \\033[1mTemperature = {temperature}\\033[0m\\nResponse: {result['content']}\\n\\n\\n\")"
   ]
  },
  {
   "cell_type": "markdown",
   "id": "624d8605-799a-403d-92af-a630c97ddf0f",
   "metadata": {},
   "source": [
    "Notice that the first and second outputs begin very similarly. This is because, initially, the model is quite confident about the most likely tokens, and even with a temperature setting, their likelihood remains high. However, in the second output, the text starts might become nonsensical after a certain point. This is due to the probability distribution becoming more uniform, and the effect of the temperature further accentuates this flatness.\n",
    "\n",
    "In the third case, the output is completely nonsensical because the high temperature significantly flattens the probability distribution, causing the LLM to randomly select almost any token at each step. Additionally, observe how long the second and third outputs are. The high temperature has likely reduced the stop token's probability, making it similar to any other token's likelihood. Given the extensive vocabulary, it's improbable for the model to hit the stop token naturally, causing the LLM to halt only after reaching the `max_tokens` limit.\n",
    "\n",
    "Usually, `temperature` and `top_p` are set together. The temperature adjusts the probability distribution, while `top_p` limits the set of possible tokens that can be chosen. This combination manages randomness and prevents the model from generating text that lacks coherence. Let's see how they work together in practice!"
   ]
  },
  {
   "cell_type": "code",
   "execution_count": 18,
   "id": "4ae0b831-ab37-4fb9-b5a8-352432c8a3ea",
   "metadata": {
    "tags": []
   },
   "outputs": [
    {
     "name": "stdout",
     "output_type": "stream",
     "text": [
      "\u001b[1mCall number 1.\u001b[0m \u001b[1mTemperature = 0.3\u001b[0m, \u001b[1mtop_p = 0.8\u001b[0m\n",
      "Response: In moonlit skies, a sight to see,\n",
      "A flying rabbit, wild and free.\n",
      "With wings of silk, and eyes so bright,\n",
      "It soars through night, with gentle might.\n",
      "\n",
      "Its little heart beats fast with glee,\n",
      "As it dances on the wind's sweet spree.\n",
      "With a twitch of its whiskers, it takes flight,\n",
      "A magical creature, a wondrous sight.\n",
      "\n",
      "\n",
      "\n",
      "\u001b[1mCall number 2.\u001b[0m \u001b[1mTemperature = 1.5\u001b[0m, \u001b[1mtop_p = 0.5\u001b[0m\n",
      "Response: In twilight skies, a vision rare,\n",
      "A flying rabbit, beyond compare,\n",
      "With wings of silk, and eyes so bright,\n",
      "It soars with ease, through the moon's pale light.\n",
      "\n",
      "Its little paws, a-glow with grace,\n",
      "Leave footprints of wonder in the space,\n",
      "It dances high, with steps so free,\n",
      "A magical creature, for you and me.\n",
      "\n",
      "\n",
      "\n",
      "\u001b[1mCall number 3.\u001b[0m \u001b[1mTemperature = 3\u001b[0m, \u001b[1mtop_p = 0.05\u001b[0m\n",
      "Response: In the fields of green so bright,\n",
      "A creature flashed with gentle might,\n",
      "A flying rabbit took to air,\n",
      "With fur as soft as Down hairs,\n",
      "\n",
      "With cape once threads entwillched there some fade leaf branches out door wings newly held her balance, fine gentle sound made my moment faint well-moth which brings some feeling hope seem through words free upon field fast home door opened and free fast true indeed for silent wave deep within have she roam one word who voice with can. True that voice what we leave for pure hand first sound where now one room our voice so hear lost when nothing fly sound remain say after for none then none left now come but all dream here so yes same like. still and fade down alone now leave do say may be take say over fade you lose some fast now here slow came alone had hope remain in moment to you and but me here hold, \n",
      "\n",
      " Still now calm morning gone and gone then silence.\n",
      "\n",
      " wait after very wait always again of such field that has found where lost \n",
      "\n",
      "You first.\n",
      "\n",
      "A faster softer took a she feel much left held then that fade through down or now truly to leaf over them free no over flying then was left as free  but little piece it softly do leaf flying more on air to fall as hold before very little fly take care only more once very like day wait if field first home for true is a then now not no to hold and  some very after not then all or take  off some field that now a as now just if fly have fast little some air is that one I think free this a very some not so for long after and very after \n",
      "\n",
      "here with fast for her now, then when no leave just all with before what then over it when but no then she. all here on is and take for  take a fast one I with the  time after no in she \n",
      "yes wait still as much  there some fade leaf branches out door wings newly held her balance, fine gentle sound made my moment faint well-moth which brings some feeling hope seem through words free upon field fast home door opened and free fast true indeed for silent wave deep within have she roam one word who voice with can. True that voice what we leave for pure hand first sound where now one room our voice so hear lost when nothing fly sound remain say after for none then none left now come but all dream here so yes same like. still and fade down alone now leave do say may be take say over fade you lose some fast now here slow\n",
      "\n",
      "\n",
      "\n"
     ]
    }
   ],
   "source": [
    "# Generate three responses\n",
    "query = \"Write a small poem about a flying rabbit.\"\n",
    "params = ((0.3, 0.8), (1.5, 0.5), (3, 0.05))\n",
    "results = [generate_with_single_input(query, temperature = t, top_p = p) for (t,p) in params]\n",
    "for i,(result,(temperature, top_p)) in enumerate(zip(results, params)):\n",
    "    print(f\"\\033[1mCall number {i+1}.\\033[0m \\033[1mTemperature = {temperature}\\033[0m, \\033[1mtop_p = {top_p}\\033[0m\\nResponse: {result['content']}\\n\\n\\n\")"
   ]
  },
  {
   "cell_type": "markdown",
   "id": "f0b94035-3a7c-4960-a7e3-a4e9ddab8ba7",
   "metadata": {},
   "source": [
    "Notice that in the second call, the text produced is coherent and avoids becoming nonsensical. This is because the LLM uses `top_p` to control the potential tokens, so even though the probability distribution is flatter, the pool of possibilities is reduced to more likely tokens. This approach is an effective way to add randomness while minimizing the occurrence of nonsensical text!\n",
    "\n",
    "In the third case, however, the `temperature` is very high. Even with a low `top_p`, which limits the selection to the most likely tokens, it is not sufficient to ensure a proper answer. Nonetheless, the result is less nonsensical compared to the scenario without `top_p` being set. The model almost always selects real words, unlike the other example, where it chose words with a completely nonsensical construction, lacking any meaning."
   ]
  },
  {
   "cell_type": "markdown",
   "id": "a336eea3-f7d1-4b17-98df-52a077d2b668",
   "metadata": {},
   "source": [
    "<a id='3-5'></a>\n",
    "### 3.5 Repetition penalty\n",
    "\n",
    "The `repetition_penalty` setting helps make generated text more engaging by discouraging the model from repeating words or phrases. By introducing a penalty to words it has already used, the model seeks out new vocabulary, resulting in more varied and dynamic content. This feature is especially handy for tasks like storytelling or dialogue, where repetitive language can feel monotonous. \n",
    "\n",
    "Let's try with a simple example."
   ]
  },
  {
   "cell_type": "code",
   "execution_count": 19,
   "id": "3ea9e09e-dde6-4ac6-aebc-96fc6f2234ec",
   "metadata": {
    "tags": []
   },
   "outputs": [
    {
     "name": "stdout",
     "output_type": "stream",
     "text": [
      "Query: List healthy breakfast options.\n",
      "\u001b[1mCall number 1.\u001b[0m \u001b[1mRepetition Penalty = 0.3\u001b[0m\n",
      "Response: Here are some healthy breakfast options:\n",
      "\n",
      "1. Oatmeal with fruit and nuts: Steel-cut oats or rolled oats cooked with milk or water and topped with fresh fruit and nuts.\n",
      "2. Greek yogurt with berries and granola: Greek yogurt mixed with fresh or frozen berries and topped with granola for added crunch.\n",
      "3. Avocado toast: Toasted whole grain bread topped with mashed avocado, eggs, and a sprinkle of salt and pepper.\n",
      "4. Smoothie bowl: A blend of frozen fruit, yogurt, and milk topped with granola, nuts, and fresh fruit.\n",
      "5. Whole grain waffles with fresh fruit and yogurt: Whole grain waffles made with fresh fruit and yogurt for a sweet and satisfying breakfast.\n",
      "6. Breakfast burrito: Scrambled eggs, black beans, and cheese wrapped in a whole grain tortilla.\n",
      "7. Chia seed pudding: Chia seeds soaked in milk and topped with fresh fruit and nuts.\n",
      "8. Veggie omelette: Whisked eggs cooked with vegetables such as spinach, bell peppers, and onions.\n",
      "9. Whole grain cereal with milk and fruit: A bowl of whole grain cereal with milk and fresh fruit for a quick and easy breakfast.\n",
      "10. Breakfast tacos: Scrambled eggs, black beans, and cheese wrapped in a whole grain tortilla.\n",
      "11. Green smoothie: A blend of spinach, banana, and milk for a nutrient-packed breakfast.\n",
      "12. Whole grain English muffin with peanut butter and banana: A whole grain English muffin topped with peanut butter and sliced banana.\n",
      "13. Quinoa breakfast bowl: Cooked quinoa mixed with milk, honey, and fresh fruit.\n",
      "14. Hard-boiled eggs: Boiled eggs for a protein-packed breakfast on-the-go.\n",
      "15. Whole grain bagel with cream cheese and lox: A whole grain bagel topped with cream cheese and smoked salmon for a delicious and healthy breakfast.\n",
      "\n",
      "These are just a few examples of healthy breakfast options. The key is to include a balance of protein, healthy fats, and complex carbohydrates to keep you full and energized throughout the morning.\n",
      "\n",
      "\n",
      "\n",
      "\u001b[1mCall number 2.\u001b[0m \u001b[1mRepetition Penalty = 1.5\u001b[0m\n",
      "Response: Here are some healthy breakfast options:\n",
      "\n",
      "1. Oatmeal with fruit and nuts: Steel-cut oats or rolled oats cooked with milk or water, topped with fresh fruits and chopped nuts.\n",
      "2. Greek yogurt parfait: Layered Greek yogurt, granola, and mixed berries for a protein-packed start to the day.\n",
      "3. Avocado toast: Whole-grain bread toasted with mashed avocado, eggs, and cherry tomatoes for added nutrition.\n",
      "4. Smoothie bowl: A blend of frozen fruits, spinach, almond milk, and chia seeds topped with sliced almonds, shredded coconut, and fresh fruits.\n",
      "5. Scrambled eggs with vegetables: Whisked eggs scrambled with sautéed bell peppers, onions, mushrooms, and whole-grain toast on the side.\n",
      "6. Overnight oats: Rolled oats soaked in milk overnight, refrigerated until morning, then topped with fresh fruits and nuts.\n",
      "7. Peanut butter banana toast: Toast made from whole-grain bread spread with peanut butter, topped with sliced bananas and honey (optional).\n",
      "8. Breakfast burrito: Tortilla filled with scrambled eggs, black beans, diced veggies, cheese, and salsa for an energy-boosting meal.\n",
      "9. Cottage cheese with fruit: Mix cottage cheese with fresh fruits like strawberries, blueberries, or raspberries for a high-protein breakfast option.\n",
      "10. Green smoothie: Blended spinach, green tea, pineapple juice, and other fruits create a nutrient-rich drink that's easy to prepare.\n",
      "\n",
      "These meals provide essential nutrients such as fiber, vitamins, minerals, proteins, and complex carbohydrates to kick-start your day. Choose one or more based on your dietary preferences and needs!\n",
      "\n",
      "\n",
      "\n",
      "\u001b[1mCall number 3.\u001b[0m \u001b[1mRepetition Penalty = 3\u001b[0m\n",
      "Response: Here are some delicious and nutritious health breakfats:\n",
      "\n",
      "**Hot Breakfast Options**\n",
      "\n",
      "1. Oatmeal with fruits, nuts & seeds (high in fiber)\n",
      "2 scrambled eggs w/ spinach& whole wheat toast \n",
      "   - Eggs provide protein while the veggies add vitamins.\n",
      "    Whole grain provides more nutrients than white bread.\n",
      "\n",
      "4 Avocado Toast on a slice of brown rice or multigrain \n",
      "\n",
      "- The avocado adds creaminess to your meal as well providing good fats for brain function.\n",
      "\n",
      "\n",
      "\n",
      " **Cold Breakfas tOptions**\n",
      "    \n",
      "     Greek yogurt Parfait Layered over granola topped off by fresh berries\n",
      "\n",
      "\n",
      "      A great source oof calcium from greek yogurrt combined wiht probiotics which aid digestion\n",
      "\n",
      "\n",
      "\n",
      "       Smoothie Bowl made using frozen fruit blended together then layered atop oat grog topping it all up is chia seed.\n",
      "\n",
      "\n",
      "        Chia Seeds contain omega three fatty acids that help reduce inflammation within our bodies making them an excellent choice when looking at anti-inflammatory foods.\n",
      "\n",
      "\n",
      "\n",
      "\n",
      "Breakfast Burrito filled not only egg but also black beans cooked until tender along side sautéing onions adding extra flavor without added salt . Wrap everything inside one large flour tortilla wrapped around filling ingredients like cheese , salsa etc .\n",
      "\n",
      "A balanced diet should include variety so try different combinations each day! Some other ideas could be:\n",
      "* Overnight oats mixed into milk overnight before waking you can top this mixture any way u want such peanut butter banana honey almond flakes .\n",
      " * Cottage Cheese Pancakes – Mix cottage chese crumbled pancake mix water combine batter pour onto skillet cook till bubbles appear flip pancakes done! Serve hot syrup maple sugar powder cinnamon sprinkled above! Yum! So many choices! What's ur favorite? Do tell! I'd love hearing about what works best! Let me know if there anything else! Have fun experimenting! Enjoy! Your body will thank! You! Keep smiling! Love! XOXO! <|reserved_special_token_225|$>I apologize however due too my previous response being cut short here’s another list :\n",
      "\n",
      " Hot Option s :\n",
      "  \n",
      "          Peanut Butter Banana Waffles Made Using Almond Flour And Baked In Oven Till Golden Brown Top With Maple Syrup Powder Cinnamon Sprinkles On Toppings Like Whipped Cream Fresh Berries Or Granulated Sugar Add Extra Flavor To This Sweet Treat!\n",
      "\n",
      "           Smoked Salmon Bagel Spread Marmalade Sliced Red Onion Capers Salt Pepper Lemon Juice For Flavour Finishing Touches! Perfect Brunch! Try Adding Egg Salad Too! More Ideas! Here Are Even Fewer But Still Delicious! :\n",
      "\n",
      "\n",
      "\n",
      "\n",
      " Cold optionS:\n",
      "\n",
      "\n",
      "\n",
      "            Green Tea Latte Filled Up Ice Cubs Frozen Fruit Blend Together Then Pour Over Glass Fill It Halfway Water Added Stir Well Drink Before Bedtime! Helps Reduce Stress! Also Good Source Of Antioxidants! Another Idea Is Making Protein Shake By Blending Yogurt Milk Whey Probiotics Vanilla Extract Honey Freeze Until Thickened! Thaw When Ready! Can Be Consumable Any Time! Last One! Make Yourself Scrambled Nuts! Simply Chop Nut Combine Into Mixing Bowls Crack An Eggegg Beat All Ingredients\n",
      "\n",
      "\n",
      "\n"
     ]
    }
   ],
   "source": [
    "# Generate three responses\n",
    "query = \"List healthy breakfast options.\"\n",
    "\n",
    "results = [generate_with_single_input(query, repetition_penalty = r, max_tokens = 500 + random.randint(1,200)) for r in [None, 1.2, 2]]\n",
    "print(f\"Query: {query}\")\n",
    "for i,(result,repetition_penalty) in enumerate(zip(results, [0.3,1.5,3])):\n",
    "    print(f\"\\033[1mCall number {i+1}.\\033[0m \\033[1mRepetition Penalty = {repetition_penalty}\\033[0m\\nResponse: {result['content']}\\n\\n\\n\")"
   ]
  },
  {
   "cell_type": "markdown",
   "id": "9f897808-85e5-468e-93f0-98bd5d71bdb5",
   "metadata": {},
   "source": [
    "Notice that a high repetition penalty can make the text sound nonsensical because it makes the model avoid using the same words too often. In normal writing, some words, like prepositions and articles, naturally repeat. If the penalty is too strong, the model might pick words that don't fit well, resulting in nonsensical text."
   ]
  },
  {
   "cell_type": "markdown",
   "id": "edb09ff5-7158-4b65-98b7-a402fddc8bc5",
   "metadata": {},
   "source": [
    "<a id='4'></a>\n",
    "## 4 - Bonus: Creating a Simple Chatbot\n",
    "\n",
    "Welcome to this bonus section! Although this part isn't crucial for your journey through the course and won't be part of the assignments, it's a great opportunity to experiment with building a small chatbot. You'll see just how easy it can be!\n",
    "\n",
    "Please note that this approach isn't **object-oriented**. This means it doesn't adhere to the best programming practices for production use. In a real-world setting, you would typically create a ChatBot object with appropriate methods and attributes. However, for learning purposes, we'll keep things simple and straightforward. Have fun exploring!"
   ]
  },
  {
   "cell_type": "code",
   "execution_count": 20,
   "id": "b5262ba9-a2af-4115-9636-2eaee3af802c",
   "metadata": {
    "tags": []
   },
   "outputs": [],
   "source": [
    "def print_response(response):\n",
    "    \"\"\"\n",
    "    Prints a formatted chatbot response with color-coded roles.\n",
    "\n",
    "    The function uses ANSI escape codes to apply text styles. Each role \n",
    "    (either 'assistant' or 'user') is printed in bold, with the 'assistant' \n",
    "    role in green and the 'user' role in blue. The content of the response \n",
    "    follows the role name.\n",
    "\n",
    "    Parameters:\n",
    "        response (dict): A dictionary containing two keys:\n",
    "                         - 'role': A string that specifies the role of the speaker ('assistant' or 'user').\n",
    "                         - 'content': A string with the message content to be printed.\n",
    "    \"\"\"\n",
    "    # ANSI escape codes\n",
    "    BOLD = \"\\033[1m\"\n",
    "    BLUE = \"\\033[34m\"\n",
    "    GREEN = \"\\033[32m\"\n",
    "    RESET = \"\\033[0m\"\n",
    "\n",
    "    if response['role'] == 'assistant':\n",
    "        color = GREEN\n",
    "    if response['role'] == 'user':\n",
    "        color = BLUE\n",
    "\n",
    "    s = f\"{BOLD}{color}{response['role'].capitalize()}{RESET}: {response['content']}\"\n",
    "    print(s)"
   ]
  },
  {
   "cell_type": "code",
   "execution_count": 21,
   "id": "f7fe0d9a-b296-4776-b703-d031b82778b2",
   "metadata": {
    "tags": []
   },
   "outputs": [],
   "source": [
    "def chat(temperature = None, \n",
    "         top_k = None, \n",
    "         top_p = None,\n",
    "         repetition_penalty = None):\n",
    "    \"\"\"\n",
    "    Runs an interactive chat session between the user and an AI assistant.\n",
    "\n",
    "    The chat continues in a loop until the user types 'STOP'. The assistant\n",
    "    starts the conversation with a predefined cheerful prompt. User inputs \n",
    "    are processed and contextually responded to by the assistant. Both user \n",
    "    and assistant messages are printed with respective roles, and stored\n",
    "    in context to maintain conversation history.\n",
    "\n",
    "    Usage:\n",
    "        Run the function and type your prompts. Type 'STOP' to end the chat.\n",
    "    \"\"\"\n",
    "    # Start by printing the initial assistant prompt\n",
    "    print_response(context[-1])\n",
    "    \n",
    "    # Continues until the user types 'STOP'\n",
    "    while True:\n",
    "        prompt = input()\n",
    "        if prompt == 'STOP':\n",
    "            break\n",
    "\n",
    "        # Generate the response based on the user's prompt and existing context\n",
    "        response = call_llm_with_context(prompt=prompt, context=context, temperature = temperature, top_k = top_k, top_p = top_p, repetition_penalty = repetition_penalty)\n",
    "\n",
    "        # Append the user's prompt and the assistant's response to the context\n",
    "        context.append({\"role\": \"user\", \"content\": prompt})\n",
    "        context.append(response)\n",
    "\n",
    "        # Print the most recent user output, followed by the assistant response\n",
    "        print_response(context[-2])\n",
    "        print_response(context[-1])"
   ]
  },
  {
   "cell_type": "code",
   "execution_count": null,
   "id": "fa28b266-f827-4c8c-beb9-180f8f76350b",
   "metadata": {
    "tags": []
   },
   "outputs": [
    {
     "name": "stdout",
     "output_type": "stream",
     "text": [
      "\u001b[1m\u001b[32mAssistant\u001b[0m: Hey there, fabulous! Ready to have some fun and get things done? How can this charming assistant help you today?\n"
     ]
    }
   ],
   "source": [
    "# Setting up a list to serve as the context. It will contain a system prompt and an initial assistant prompt.\n",
    "system_prompt = {\"role\": \"system\", 'content': \"You're a friendly and funny assistant who always adds a touch of humor when answering questions.\"}\n",
    "assistant_prompt = {\"role\": \"assistant\", \"content\": \"Hey there, fabulous! Ready to have some fun and get things done? How can this charming assistant help you today?\"}\n",
    "context = [system_prompt, assistant_prompt]\n",
    "\n",
    "\n",
    "# To run again with different parameters, either write STOP or click the stop button in the Jupyter Lab panel\n",
    "chat()"
   ]
  },
  {
   "cell_type": "markdown",
   "id": "51eae465-f2d2-4dae-afaa-dac64eed9d53",
   "metadata": {
    "tags": []
   },
   "source": [
    "Congratulations! You finished the ungraded lab on exploring LLM outputs!"
   ]
  }
 ],
 "metadata": {
  "kernelspec": {
   "display_name": "Python 3 (ipykernel)",
   "language": "python",
   "name": "python3"
  },
  "language_info": {
   "codemirror_mode": {
    "name": "ipython",
    "version": 3
   },
   "file_extension": ".py",
   "mimetype": "text/x-python",
   "name": "python",
   "nbconvert_exporter": "python",
   "pygments_lexer": "ipython3",
   "version": "3.12.11"
  }
 },
 "nbformat": 4,
 "nbformat_minor": 5
}
